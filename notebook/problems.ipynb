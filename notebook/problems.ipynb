{
    "cells": [
        {
            "cell_type": "markdown",
            "id": "ac622319",
            "metadata": {},
            "source": [
                "# Descriptive Statistics Problems"
            ]
        },
        {
            "cell_type": "markdown",
            "id": "aa8993e4",
            "metadata": {},
            "source": [
                "### Exercise 1"
            ]
        },
        {
            "cell_type": "markdown",
            "id": "5e0ab0d5",
            "metadata": {},
            "source": [
                "As right now, you are familliar with numpy, we are going to use numpy to get some data statistics.\n",
                "\n",
                "First, lets create an array of 20 elements distributed normally (Gaussian):\n",
                "\n",
                "Use the np.random.normal function to create some data, using 0,1,20 as parameters because we want a one dimentional array of 20 numbers distributed normally (Gaussian)"
            ]
        },
        {
            "cell_type": "code",
            "execution_count": 20,
            "id": "34720ab6",
            "metadata": {},
            "outputs": [
                {
                    "data": {
                        "text/plain": [
                            "array([ 0.22827309,  1.0268903 , -0.83958485, -0.59118152, -0.9568883 ,\n",
                            "       -0.22232569, -0.61991511,  1.83790458, -2.05323076,  0.86858305,\n",
                            "       -0.92073444, -0.23231186,  2.1529569 , -1.33466147,  0.07637965,\n",
                            "       -1.24608928,  1.20227231, -1.04994158,  1.05661011, -0.41967767,\n",
                            "        2.29484234, -2.59448738,  2.8227564 ,  0.68088892, -1.57769345,\n",
                            "       -1.97625359,  0.53333982, -0.29086971, -0.51351967,  1.98262608,\n",
                            "        0.22600105, -1.83990496,  1.60767083,  0.38829194,  0.39973206,\n",
                            "        0.4054766 ,  0.21700177, -0.6334391 ,  0.24662153, -1.93954552,\n",
                            "        0.11405963, -1.8853414 ,  0.24308048, -0.70548067,  0.36462762,\n",
                            "       -0.50295216, -0.22575155, -0.56553773,  0.10339501,  2.01840842,\n",
                            "        1.09424827,  1.6624344 , -0.62745348,  1.62119964,  1.17813267,\n",
                            "       -0.37487875, -0.54432898,  0.28776118, -0.20581999,  1.18998786,\n",
                            "        0.72892688, -0.22204012, -1.62270578,  0.31254055, -1.16042141,\n",
                            "        0.31355968,  0.47199786,  0.57786171,  0.50540675, -0.62648777,\n",
                            "       -0.34636933, -2.06594183,  0.76893629,  1.12886631,  0.16692354,\n",
                            "       -0.96725539,  0.49199625, -0.55085717, -0.08469407,  1.96756834,\n",
                            "       -0.06267511, -0.85113578,  0.42652063, -0.27756074, -1.37794456,\n",
                            "       -0.09519641,  0.83363873, -0.78475445,  1.04614478, -0.645784  ,\n",
                            "       -1.89157934, -0.09733285, -1.35889534,  0.49830983, -1.14732055,\n",
                            "       -0.53652108, -0.91648938, -0.21214793,  0.19284449, -0.32268305])"
                        ]
                    },
                    "execution_count": 20,
                    "metadata": {},
                    "output_type": "execute_result"
                }
            ],
            "source": [
                "#import libraries\n",
                "import numpy as np\n",
                "import matplotlib.pyplot as plt\n",
                "\n",
                "\n",
                "# Set seed in order to get similar results\n",
                "np.random.seed(25)\n",
                "\n",
                "# create the data\n",
                "data = np.random.normal(0,1,100)\n",
                "\n",
                "#print results\n",
                "data"
            ]
        },
        {
            "cell_type": "code",
            "execution_count": 7,
            "id": "49c55822",
            "metadata": {},
            "outputs": [
                {
                    "data": {
                        "text/plain": [
                            "-0.10183362702065617"
                        ]
                    },
                    "execution_count": 7,
                    "metadata": {},
                    "output_type": "execute_result"
                }
            ],
            "source": [
                "#Use numpy to get the mean of your data\n",
                "data_mean = np.mean(data)\n",
                "data_mean"
            ]
        },
        {
            "cell_type": "code",
            "execution_count": 10,
            "id": "03529459",
            "metadata": {},
            "outputs": [
                {
                    "data": {
                        "text/plain": [
                            "1.218414090055802"
                        ]
                    },
                    "execution_count": 10,
                    "metadata": {},
                    "output_type": "execute_result"
                }
            ],
            "source": [
                "#get the variance of your data\n",
                "data_variance = np.var(data)\n",
                "data_variance"
            ]
        },
        {
            "cell_type": "code",
            "execution_count": 21,
            "id": "e53f30c5",
            "metadata": {},
            "outputs": [
                {
                    "data": {
                        "text/plain": [
                            "(array([ 3.,  7.,  7., 20., 19., 21., 12.,  4.,  5.,  2.]),\n",
                            " array([-2.59448738, -2.052763  , -1.51103862, -0.96931424, -0.42758987,\n",
                            "         0.11413451,  0.65585889,  1.19758327,  1.73930764,  2.28103202,\n",
                            "         2.8227564 ]),\n",
                            " <BarContainer object of 10 artists>)"
                        ]
                    },
                    "execution_count": 21,
                    "metadata": {},
                    "output_type": "execute_result"
                },
                {
                    "data": {
                        "image/png": "[encoded data removed]",
                        "text/plain": [
                            "<Figure size 432x288 with 1 Axes>"
                        ]
                    },
                    "metadata": {
                        "needs_background": "light"
                    },
                    "output_type": "display_data"
                }
            ],
            "source": [
                "# Standard deviation\n",
                "data_std = np.std(data)\n",
                "data_std\n",
                "plt.hist(data)\n",
                "\n"
            ]
        },
        {
            "cell_type": "code",
            "execution_count": 14,
            "id": "9bce852f",
            "metadata": {},
            "outputs": [
                {
                    "data": {
                        "text/plain": [
                            "array([-2.05323076])"
                        ]
                    },
                    "execution_count": 14,
                    "metadata": {},
                    "output_type": "execute_result"
                }
            ],
            "source": [
                "#import libraries and print the mode\n",
                "from scipy import stats\n",
                "data_mode = stats.mode(data)\n",
                "\n",
                "# Mode for continuous array\n",
                "data_mode.mode\n"
            ]
        },
        {
            "cell_type": "code",
            "execution_count": 21,
            "id": "c682cb6e",
            "metadata": {},
            "outputs": [
                {
                    "data": {
                        "text/plain": [
                            "-0.3259947671553432"
                        ]
                    },
                    "execution_count": 21,
                    "metadata": {},
                    "output_type": "execute_result"
                }
            ],
            "source": [
                "# Median\n",
                "data_median = sts.median(data)\n",
                "data_median"
            ]
        },
        {
            "cell_type": "code",
            "execution_count": 25,
            "id": "39c3fabd",
            "metadata": {},
            "outputs": [
                {
                    "data": {
                        "text/plain": [
                            "-0.3259947671553432"
                        ]
                    },
                    "execution_count": 25,
                    "metadata": {},
                    "output_type": "execute_result"
                }
            ],
            "source": [
                "# Print the Quantiles\n",
                "q2 = np.quantile(data, 0.50)\n",
                "q2\n",
                "\n",
                "\n",
                "# This match with np.median, why?\n",
                "\"\"\"\n",
                "    Because to get the q2 quantile the data set must to be sorted as in the median. So, the the q2 will be the same than the median.\n",
                "\"\"\"\n"
            ]
        },
        {
            "cell_type": "markdown",
            "id": "46c70c3d",
            "metadata": {},
            "source": [
                "### Exercise 2\n",
                "\n",
                "Write a Python program to calculate the standard deviation of the following data:\n",
                "```py\n",
                "data = [4, 2, 5, 8, 6]\n",
                "```"
            ]
        },
        {
            "cell_type": "code",
            "execution_count": 16,
            "id": "d590308e",
            "metadata": {},
            "outputs": [
                {
                    "name": "stdout",
                    "output_type": "stream",
                    "text": [
                        "The standar deviation of the data set [4, 2, 5, 8, 6] is -> 2.0\n"
                    ]
                }
            ],
            "source": [
                "import math\n",
                "import sys\n",
                "import numpy as np\n",
                "\n",
                "# Define the standard deviation function\n",
                "\n",
                "def sd_calc(data):\n",
                "    # Defining variables\n",
                "    mean_data, sumatoria = avg_calc(data), 0\n",
                "    # calculate stan. dev.\n",
                "    for i in data:\n",
                "        sumatoria += (i - mean_data)**2\n",
                "    # Result\n",
                "    return math.sqrt(sumatoria/len(data))\n",
                "\n",
                "# Define the average function\n",
                "def avg_calc(ls):\n",
                "    #code here\n",
                "    elements, total = len(ls), sum(ls)\n",
                "\n",
                "    # calculate average\n",
                "    return total/elements\n",
                "    \n",
                "    \n",
                "data = [4, 2, 5, 8, 6]\n",
                "\n",
                "#print the standard deviation of the data\n",
                "print(f'The standar deviation of the data set {data} is -> {sd_calc(data)}')"
            ]
        },
        {
            "cell_type": "markdown",
            "id": "04b71791",
            "metadata": {},
            "source": [
                "Source:\n",
                "\n",
                "https://www.w3resource.com/"
            ]
        }
    ],
    "metadata": {
        "kernelspec": {
            "display_name": "Python 3.8.13 64-bit ('3.8.13')",
            "language": "python",
            "name": "python3"
        },
        "language_info": {
            "codemirror_mode": {
                "name": "ipython",
                "version": 3
            },
            "file_extension": ".py",
            "mimetype": "text/x-python",
            "name": "python",
            "nbconvert_exporter": "python",
            "pygments_lexer": "ipython3",
            "version": "3.8.13"
        },
        "vscode": {
            "interpreter": {
                "hash": "110cc1dee26208153f2972f08a2ad52b6a56238dc66d48e87fb757ef2996db56"
            }
        }
    },
    "nbformat": 4,
    "nbformat_minor": 5
}
